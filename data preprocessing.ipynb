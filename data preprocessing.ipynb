{
 "cells": [
  {
   "cell_type": "code",
   "execution_count": 1,
   "metadata": {},
   "outputs": [],
   "source": [
    "import numpy as np\n",
    "import sklearn.metrics as metrics\n",
    "import matplotlib.pyplot as plt\n",
    "import pandas as pd\n",
    "from sklearn import preprocessing\n",
    "from sklearn.linear_model import LogisticRegression\n",
    "from sklearn.metrics import accuracy_score\n",
    "from sklearn.decomposition import PCA\n",
    "from sklearn.model_selection import train_test_split"
   ]
  },
  {
   "cell_type": "code",
   "execution_count": 2,
   "metadata": {},
   "outputs": [],
   "source": [
    "def file_to_numpy(filename):\n",
    "    \"\"\"\n",
    "    Read an input file and convert it to numpy\n",
    "    \"\"\"\n",
    "    df = pd.read_csv(filename)\n",
    "    return df.to_numpy()"
   ]
  },
  {
   "cell_type": "code",
   "execution_count": 3,
   "metadata": {},
   "outputs": [],
   "source": [
    "file = file_to_numpy(\"train.csv\")\n",
    "y = file[:, 1:2]\n",
    "x = file[:,3:]\n",
    "x_num = x[:, 7:]\n",
    "x_alpha = x[:, :7]\n",
    "enc = preprocessing.OneHotEncoder(handle_unknown='ignore')\n",
    "enc.fit(x_alpha) # determine categories of features\n",
    "x_split = enc.transform(x_alpha).toarray() # transform returns a sparse matrix\n",
    "xNames_split = enc.get_feature_names()\n",
    "# print(x_split)\n",
    "# print(xNames_split)\n"
   ]
  },
  {
   "cell_type": "code",
   "execution_count": 4,
   "metadata": {},
   "outputs": [
    {
     "name": "stdout",
     "output_type": "stream",
     "text": [
      "      X10  X11  X12  X13  X14  X15  X16  X17  X18  X19  ...  X375  X376  X377  \\\n",
      "0       0    0    0    1    0    0    0    0    1    0  ...     0     0     1   \n",
      "1       0    0    0    0    0    0    0    0    1    0  ...     1     0     0   \n",
      "2       0    0    0    0    0    0    0    1    0    0  ...     0     0     0   \n",
      "3       0    0    0    0    0    0    0    0    0    0  ...     0     0     0   \n",
      "4       0    0    0    0    0    0    0    0    0    0  ...     0     0     0   \n",
      "...   ...  ...  ...  ...  ...  ...  ...  ...  ...  ...  ...   ...   ...   ...   \n",
      "4204    0    0    0    0    1    0    0    0    0    0  ...     1     0     0   \n",
      "4205    0    0    0    0    0    0    0    0    0    0  ...     0     1     0   \n",
      "4206    0    0    1    1    0    0    0    0    0    0  ...     0     0     1   \n",
      "4207    0    0    0    0    1    0    0    0    0    0  ...     0     0     0   \n",
      "4208    0    0    0    0    0    0    0    0    0    0  ...     1     0     0   \n",
      "\n",
      "      X378  X379  X380  X382  X383  X384  X385  \n",
      "0        0     0     0     0     0     0     0  \n",
      "1        0     0     0     0     0     0     0  \n",
      "2        0     0     0     1     0     0     0  \n",
      "3        0     0     0     0     0     0     0  \n",
      "4        0     0     0     0     0     0     0  \n",
      "...    ...   ...   ...   ...   ...   ...   ...  \n",
      "4204     0     0     0     0     0     0     0  \n",
      "4205     0     0     0     0     0     0     0  \n",
      "4206     0     0     0     0     0     0     0  \n",
      "4207     0     0     0     0     0     0     0  \n",
      "4208     0     0     0     0     0     0     0  \n",
      "\n",
      "[4209 rows x 368 columns]\n",
      "      X0 X1  X2 X3 X4  X5 X6 X8\n",
      "0      k  v  at  a  d   u  j  o\n",
      "1      k  t  av  e  d   y  l  o\n",
      "2     az  w   n  c  d   x  j  x\n",
      "3     az  t   n  f  d   x  l  e\n",
      "4     az  v   n  f  d   h  d  n\n",
      "...   .. ..  .. .. ..  .. .. ..\n",
      "4204  ak  s  as  c  d  aa  d  q\n",
      "4205   j  o   t  d  d  aa  h  h\n",
      "4206  ak  v   r  a  d  aa  g  e\n",
      "4207  al  r   e  f  d  aa  l  u\n",
      "4208   z  r  ae  c  d  aa  g  w\n",
      "\n",
      "[4209 rows x 8 columns]\n"
     ]
    }
   ],
   "source": [
    "file = pd.read_csv(\"train.csv\")\n",
    "y = file.iloc[:, 1:2]\n",
    "x = file.iloc[:,2:]\n",
    "x_num = x.iloc[:, 8:]\n",
    "x_alpha = x.iloc[:, :8]\n",
    "print(x_num)\n",
    "print(x_alpha)"
   ]
  },
  {
   "cell_type": "code",
   "execution_count": 5,
   "metadata": {},
   "outputs": [],
   "source": [
    "enc = preprocessing.OneHotEncoder(handle_unknown='ignore')\n",
    "enc.fit(x_alpha) # determine categories of features\n",
    "x_split = enc.transform(x_alpha).toarray() # transform returns a sparse matrix\n",
    "b = x_split[0][0]\n",
    "\n",
    "x_split = x_split.astype(float)\n",
    "xNames_split = enc.get_feature_names()\n",
    "xNames_num = x_num.columns.values\n",
    "x_num = x_num.to_numpy()\n",
    "x_transformed = np.concatenate((x_split,x_num),axis=1)\n",
    "name = []\n",
    "for i in range(0, len(xNames_split)):\n",
    "    name.append(xNames_split[i])\n",
    "for i in range(0, len(xNames_num)):\n",
    "    name.append(xNames_num[i])\n",
    "pd.DataFrame(x_transformed).to_csv(\"x_transformed.csv\", header=name)"
   ]
  },
  {
   "cell_type": "code",
   "execution_count": null,
   "metadata": {},
   "outputs": [],
   "source": []
  }
 ],
 "metadata": {
  "kernelspec": {
   "display_name": "Python 3",
   "language": "python",
   "name": "python3"
  },
  "language_info": {
   "codemirror_mode": {
    "name": "ipython",
    "version": 3
   },
   "file_extension": ".py",
   "mimetype": "text/x-python",
   "name": "python",
   "nbconvert_exporter": "python",
   "pygments_lexer": "ipython3",
   "version": "3.8.3"
  }
 },
 "nbformat": 4,
 "nbformat_minor": 4
}
