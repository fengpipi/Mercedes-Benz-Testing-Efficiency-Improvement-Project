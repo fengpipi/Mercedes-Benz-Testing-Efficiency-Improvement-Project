{
 "cells": [
  {
   "cell_type": "code",
   "execution_count": 10,
   "metadata": {},
   "outputs": [],
   "source": [
    "import numpy as np\n",
    "import pandas as pd\n",
    "from sklearn.ensemble import GradientBoostingRegressor\n",
    "from sklearn.model_selection import train_test_split\n",
    "from sklearn.metrics import mean_squared_error\n",
    "from sklearn.metrics import r2_score\n",
    "from sklearn.decomposition import PCA as sklearnPCA\n",
    "from sklearn.model_selection import GridSearchCV\n",
    "import matplotlib.pyplot as plt\n",
    "\n",
    "def pca_95(xTrain, xTest):\n",
    "    pca = sklearnPCA(.95)\n",
    "    pca.fit(xTrain)\n",
    "    xTrain_pca = pca.transform(xTrain)\n",
    "    xTest_pca = pca.transform(xTest)\n",
    "    return xTrain_pca, xTest_pca\n",
    "\n",
    "def PCA_xgboost(xTrain, yTrain, xTest, yTest):\n",
    "    yTrain = np.ravel(yTrain)\n",
    "    params = {'n_estimators': 100,\n",
    "              'max_depth': 5,\n",
    "              'min_samples_leaf': 5,\n",
    "              'learning_rate': 0.1,\n",
    "              'loss': 'ls'}\n",
    "    reg = GradientBoostingRegressor(**params)\n",
    "    reg.fit(xTrain, yTrain)\n",
    "    yHat = reg.predict(xTest)\n",
    "    RMSE(yTest, yHat)\n",
    "\n",
    "    test_score = np.zeros((params['n_estimators'],), dtype=np.float64)\n",
    "    for i, yhat in enumerate(reg.staged_predict(xTest)):\n",
    "        test_score[i] = reg.loss_(yTest, yhat)\n",
    "\n",
    "    fig = plt.figure(figsize=(6, 6))\n",
    "    plt.subplot(1, 1, 1)\n",
    "    plt.title('Deviance')\n",
    "    plt.plot(np.arange(params['n_estimators']) + 1, reg.train_score_, 'b-',\n",
    "             label='Training Set Deviance')\n",
    "    plt.plot(np.arange(params['n_estimators']) + 1, test_score, 'r-',\n",
    "             label='Test Set Deviance')\n",
    "    plt.legend(loc='upper right')\n",
    "    plt.xlabel('Boosting Iterations')\n",
    "    plt.ylabel('Deviance')\n",
    "    fig.tight_layout()\n",
    "    plt.show()\n",
    "\n",
    "\n",
    "def RMSE(ytest, yhat):\n",
    "    \"\"\"\n",
    "    :param ytest: true y values in the test set\n",
    "    :param yhat: predicted y values\n",
    "    :return:\n",
    "    \"\"\"\n",
    "    rmse = np.sqrt(mean_squared_error(ytest, yhat))\n",
    "    rsquare = r2_score(ytest, yhat)\n",
    "    print(\"RMSE: %f\" % (rmse))\n",
    "    print(\"R-square: %f\" % (rsquare))\n",
    "\n",
    "\n",
    "def Param_search(xTrain, yTrain, xTest, yTest):\n",
    "    clf = GridSearchCV(\n",
    "        estimator=GradientBoostingRegressor(),\n",
    "        param_grid=[{'max_depth': range(5, 21, 5),\n",
    "                     'learning_rate': [0.01, 0.05, 0.1, 0.5],\n",
    "                     'min_samples_leaf': range(5, 21, 5)}], cv=5, scoring='r2')\n",
    "    clf.fit(xTrain, yTrain)\n",
    "    yHat = clf.predict(xTest)\n",
    "\n",
    "    means = clf.cv_results_['mean_test_score']\n",
    "    for mean, params in zip(means, clf.cv_results_['params']):\n",
    "        print(\"%0.3f for %r\" % (mean, params))\n",
    "    print()\n",
    "    print(\"Best parameters set found on development set:\")\n",
    "    print()\n",
    "    print(clf.best_params_)\n",
    "\n",
    "\n",
    "def file_to_numpy(filename):\n",
    "    \"\"\"\n",
    "    Read an input file and convert it to numpy\n",
    "    \"\"\"\n",
    "    df = pd.read_csv(filename)\n",
    "    return df.to_numpy()"
   ]
  },
  {
   "cell_type": "code",
   "execution_count": 11,
   "metadata": {},
   "outputs": [
    {
     "name": "stdout",
     "output_type": "stream",
     "text": [
      "RMSE: 9.852806\n",
      "R-square: 0.439262\n"
     ]
    },
    {
     "data": {
      "image/png": "[encoded data removed]",
      "text/plain": [
       "<Figure size 432x432 with 1 Axes>"
      ]
     },
     "metadata": {
      "needs_background": "light"
     },
     "output_type": "display_data"
    }
   ],
   "source": [
    "\"\"\"\n",
    "Main file to run from the command line.\n",
    "\"\"\"\n",
    "#xTrain = pd.read_csv('xTrain.csv')\n",
    "#yTrain = pd.read_csv('yTrain.csv')\n",
    "file = pd.read_csv(\"train.csv\")\n",
    "y = file.iloc[:, 1:2]\n",
    "x = pd.read_csv(\"x_transformed.csv\")\n",
    "x = x.iloc[:, 1:]\n",
    "\n",
    "xHatNames = x.head(0)\n",
    "xHatNames = xHatNames.T\n",
    "x = x.to_numpy()\n",
    "y = y.to_numpy()\n",
    "y = y.T[0]\n",
    "# print(y)\n",
    "# print(len(x[0]))\n",
    "# print(xHatNames)\n",
    "\n",
    "xTrain, xTest, yTrain, yTest = train_test_split(x, y, test_size=0.3, random_state=40)\n",
    "xTrain, xTest = pca_95(xTrain, xTest)\n",
    "\n",
    "PCA_xgboost(xTrain, yTrain, xTest, yTest)\n",
    "#Param_search(xTrain, yTrain, xTest, yTest)"
   ]
  },
  {
   "cell_type": "code",
   "execution_count": null,
   "metadata": {},
   "outputs": [],
   "source": []
  }
 ],
 "metadata": {
  "kernelspec": {
   "display_name": "Python 3",
   "language": "python",
   "name": "python3"
  },
  "language_info": {
   "codemirror_mode": {
    "name": "ipython",
    "version": 3
   },
   "file_extension": ".py",
   "mimetype": "text/x-python",
   "name": "python",
   "nbconvert_exporter": "python",
   "pygments_lexer": "ipython3",
   "version": "3.8.3"
  }
 },
 "nbformat": 4,
 "nbformat_minor": 4
}
